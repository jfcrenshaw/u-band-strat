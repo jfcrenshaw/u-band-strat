{
 "cells": [
  {
   "cell_type": "code",
   "execution_count": null,
   "metadata": {},
   "outputs": [],
   "source": [
    "import numpy as np\n",
    "import contextlib\n",
    "import os\n",
    "\n",
    "import rubin_sim.maf as maf\n",
    "\n",
    "from u_band_strat import data_dir, det_bands, calc_lbg_density_metric"
   ]
  },
  {
   "cell_type": "code",
   "execution_count": 2,
   "metadata": {},
   "outputs": [],
   "source": [
    "# Collect data for the table of median depths\n",
    "depths = dict()\n",
    "for scale in [1.0, 1.1, 1.2, 1.5]:\n",
    "    depths[scale] = dict()\n",
    "    for expt in [30, 38, 45, 60]:\n",
    "        if expt == 60 and scale == 1.5:\n",
    "            continue\n",
    "        depths[scale][expt] = dict()\n",
    "        for band in \"ugrizy\":\n",
    "            depths[scale][expt][band] = dict()\n",
    "            for year in [1, 10]:\n",
    "                # Load the dropout band map\n",
    "                scale_str = str(scale).replace(\".\", \"_\")\n",
    "                with open(os.devnull, \"w\") as f, contextlib.redirect_stdout(f):\n",
    "                    m5 = maf.MetricBundle.load(\n",
    "                        data_dir\n",
    "                        / \"m5_maps\"\n",
    "                        / f\"internal_u_expt{expt}_nscale{scale_str}v3_4_{year}yrs_ExgalM5_{band}.npz\",\n",
    "                    ).metric_values\n",
    "                depths[scale][expt][band][year] = np.ma.median(m5)"
   ]
  },
  {
   "cell_type": "code",
   "execution_count": null,
   "metadata": {},
   "outputs": [],
   "source": [
    "for scale in depths:\n",
    "    for expt in depths[scale]:\n",
    "        row = f\"{scale:.1f}x, {expt}s $u$ & {scale * expt / 30:.2f} & \"\n",
    "        for band in \"ugrizy\":\n",
    "            row += f\"{depths[scale][expt][band][1] - depths[1.0][30][band][1]:>5.2f} \"\n",
    "            if band == \"u\":\n",
    "                row += f\"{f'({depths[scale][expt][band][10] - depths[1.0][30][band][10]:.2f}':>6}) & \"\n",
    "            else:\n",
    "                row += f\"{f'({depths[scale][expt][band][10] - depths[1.0][30][band][10]: .2f}':>6}) & \"\n",
    "        row = row[:-2] + r\"\\\\\"\n",
    "        print(row)"
   ]
  },
  {
   "cell_type": "code",
   "execution_count": null,
   "metadata": {},
   "outputs": [],
   "source": [
    "fields = [\"WFD\", \"COSMOS\", \"ECDFS\", \"ELAIS S1\", \"XMM-LSS\", \"EDFS\"]\n",
    "\n",
    "density = {field: dict() for field in fields}\n",
    "for field in fields:\n",
    "    name = field.replace(\" \", \"\").replace(\"-\", \"\")\n",
    "    for band in \"ugriz\":\n",
    "        density[field][band] = dict()\n",
    "        for year in [1, 10]:\n",
    "            det_band = det_bands[band]\n",
    "\n",
    "            # Get names of maps\n",
    "            if name == \"WFD\":\n",
    "                drop = (\n",
    "                    data_dir / \"m5_maps\" / f\"baseline_v4_0_{year}yrs_ExgalM5_{band}.npz\"\n",
    "                )\n",
    "                det = (\n",
    "                    data_dir\n",
    "                    / \"m5_maps\"\n",
    "                    / f\"baseline_v4_0_{year}yrs_ExgalM5_{det_band}.npz\"\n",
    "                )\n",
    "            else:\n",
    "                drop = (\n",
    "                    data_dir / \"m5_maps_deep\" / f\"{name}_{year}yrs_ExgalM5_{band}.npz\"\n",
    "                )\n",
    "                det = (\n",
    "                    data_dir\n",
    "                    / \"m5_maps_deep\"\n",
    "                    / f\"{name}_{year}yrs_ExgalM5_{det_band}.npz\"\n",
    "                )\n",
    "\n",
    "            # Load maps for dropout and detection bands\n",
    "            with open(os.devnull, \"w\") as f, contextlib.redirect_stdout(f):\n",
    "                drop = maf.MetricBundle.load(drop).metric_values\n",
    "                det = maf.MetricBundle.load(det).metric_values\n",
    "\n",
    "            # Determine number density\n",
    "            density[field][band][year] = calc_lbg_density_metric(band, drop, det)"
   ]
  },
  {
   "cell_type": "code",
   "execution_count": null,
   "metadata": {},
   "outputs": [],
   "source": [
    "for field in density:\n",
    "    row = f\"{field} & \"\n",
    "    for band in \"ugriz\":\n",
    "        if density[field][band][1] >= 10:\n",
    "            row += f\"{float(f'{density[field][band][1]:.2g}'):.0f} \"\n",
    "        else:\n",
    "            row += str(float(f\"{density[field][band][1]:.2g}\")) + \" \"\n",
    "\n",
    "        if density[field][band][10] >= 10:\n",
    "            row += f\"({float(f'{density[field][band][10]:.2g}'):.0f}) & \"\n",
    "        else:\n",
    "            row += \"(\" + str(float(f\"{density[field][band][10]:.2g}\")) + \") & \"\n",
    "\n",
    "    row = row[:-2] + r\"\\\\\"\n",
    "    print(row)"
   ]
  },
  {
   "cell_type": "code",
   "execution_count": null,
   "metadata": {},
   "outputs": [],
   "source": []
  }
 ],
 "metadata": {
  "kernelspec": {
   "display_name": "Python 3",
   "language": "python",
   "name": "python3"
  },
  "language_info": {
   "codemirror_mode": {
    "name": "ipython",
    "version": 3
   },
   "file_extension": ".py",
   "mimetype": "text/x-python",
   "name": "python",
   "nbconvert_exporter": "python",
   "pygments_lexer": "ipython3",
   "version": "3.11.11"
  }
 },
 "nbformat": 4,
 "nbformat_minor": 2
}
