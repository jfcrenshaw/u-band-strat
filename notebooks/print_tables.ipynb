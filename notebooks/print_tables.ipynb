{
 "cells": [
  {
   "cell_type": "code",
   "execution_count": null,
   "metadata": {},
   "outputs": [],
   "source": [
    "import numpy as np\n",
    "import contextlib\n",
    "import os\n",
    "\n",
    "import rubin_sim.maf as maf\n",
    "\n",
    "from u_band_strat import data_dir, interpolate_number_density"
   ]
  },
  {
   "cell_type": "code",
   "execution_count": 33,
   "metadata": {},
   "outputs": [],
   "source": [
    "# Collect data for the table of median depths\n",
    "depths = dict()\n",
    "for scale in [1.0, 1.1, 1.2, 1.5]:\n",
    "    depths[scale] = dict()\n",
    "    for expt in [30, 38, 45, 60]:\n",
    "        if expt == 60 and scale == 1.5:\n",
    "            continue\n",
    "        depths[scale][expt] = dict()\n",
    "        for band in \"ugrizy\":\n",
    "            depths[scale][expt][band] = dict()\n",
    "            for year in [1, 10]:\n",
    "                # Load the dropout band map\n",
    "                scale_str = str(scale).replace(\".\", \"_\")\n",
    "                with open(os.devnull, \"w\") as f, contextlib.redirect_stdout(f):\n",
    "                    m5 = maf.MetricBundle.load(\n",
    "                        data_dir\n",
    "                        / \"m5_maps\"\n",
    "                        / f\"internal_u_expt{expt}_nscale{scale_str}v3_4_{year}yrs_ExgalM5_{band}.npz\",\n",
    "                    ).metric_values\n",
    "                depths[scale][expt][band][year] = np.ma.median(m5)"
   ]
  },
  {
   "cell_type": "code",
   "execution_count": null,
   "metadata": {},
   "outputs": [],
   "source": [
    "for scale in depths:\n",
    "    for expt in depths[scale]:\n",
    "        row = f\"{scale:.1f}x, {expt}s $u$ & {scale * expt / 30:.2f} & \"\n",
    "        for band in \"ugrizy\":\n",
    "            row += f\"{depths[scale][expt][band][1] - depths[1.0][30][band][1]:>5.2f} \"\n",
    "            row += f\"{f'({depths[scale][expt][band][10] - depths[1.0][30][band][10]:.2f}':>6}) & \"\n",
    "        row = row[:-2] + r\"\\\\\"\n",
    "        print(row)"
   ]
  },
  {
   "cell_type": "code",
   "execution_count": null,
   "metadata": {},
   "outputs": [],
   "source": []
  },
  {
   "cell_type": "code",
   "execution_count": null,
   "metadata": {},
   "outputs": [],
   "source": []
  }
 ],
 "metadata": {
  "kernelspec": {
   "display_name": "Python 3",
   "language": "python",
   "name": "python3"
  },
  "language_info": {
   "codemirror_mode": {
    "name": "ipython",
    "version": 3
   },
   "file_extension": ".py",
   "mimetype": "text/x-python",
   "name": "python",
   "nbconvert_exporter": "python",
   "pygments_lexer": "ipython3",
   "version": "3.11.11"
  }
 },
 "nbformat": 4,
 "nbformat_minor": 2
}
