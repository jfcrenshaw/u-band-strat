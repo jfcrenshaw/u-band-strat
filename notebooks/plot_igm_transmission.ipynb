{
 "cells": [
  {
   "cell_type": "code",
   "execution_count": 1,
   "metadata": {},
   "outputs": [],
   "source": [
    "import numpy as np\n",
    "import matplotlib.pyplot as plt\n",
    "\n",
    "from lbg_tools import IGM\n",
    "from u_band_strat import single_col, colors, data_dir, fig_dir"
   ]
  },
  {
   "cell_type": "code",
   "execution_count": null,
   "metadata": {},
   "outputs": [],
   "source": [
    "# Plot IGM extinction and the Rubin filters at multiple redshifts\n",
    "fig, ax = plt.subplots(figsize=single_col, constrained_layout=True, dpi=150)\n",
    "\n",
    "wavelen = np.linspace(3_000, 7_200, 10_000)\n",
    "\n",
    "igm = IGM()\n",
    "for z in [2, 3, 4, 5]:\n",
    "    ax.plot(wavelen, igm.transmission(wavelen, z), c=colors[\"black\"])\n",
    "\n",
    "for band in \"ugr\":\n",
    "    w, t = np.genfromtxt(data_dir / f\"throughputs/{band}_1p9.dat\", unpack=True)\n",
    "    ax.plot(w * 10, t, c=colors[band])\n",
    "\n",
    "ax.set(\n",
    "    xlim=(wavelen.min(), wavelen.max()),\n",
    "    ylim=(0, 1.05),\n",
    "    xlabel=\"Wavelength (Angstroms)\",\n",
    "    ylabel=\"Transmission\",\n",
    "    xticks=[3e3, 4e3, 5e3, 6e3, 7e3],\n",
    ")\n",
    "\n",
    "ax.text(3150, 0.95, \"$z=2$\")\n",
    "ax.text(4320, 0.80, \"$z=3$\")\n",
    "ax.text(5480, 0.57, \"$z=4$\")\n",
    "ax.text(6350, 0.37, \"$z=5$\")\n",
    "\n",
    "ax.text(3500, 0.15, \"$u$\", color=colors[\"u\"])\n",
    "ax.text(4250, 0.41, \"$g$\", color=colors[\"g\"])\n",
    "ax.text(6500, 0.59, \"$r$\", color=colors[\"r\"])\n",
    "\n",
    "fig.savefig(fig_dir / \"igm_transmission.pdf\")"
   ]
  },
  {
   "cell_type": "code",
   "execution_count": null,
   "metadata": {},
   "outputs": [],
   "source": []
  }
 ],
 "metadata": {
  "kernelspec": {
   "display_name": "Python 3",
   "language": "python",
   "name": "python3"
  },
  "language_info": {
   "codemirror_mode": {
    "name": "ipython",
    "version": 3
   },
   "file_extension": ".py",
   "mimetype": "text/x-python",
   "name": "python",
   "nbconvert_exporter": "python",
   "pygments_lexer": "ipython3",
   "version": "3.11.11"
  }
 },
 "nbformat": 4,
 "nbformat_minor": 2
}
