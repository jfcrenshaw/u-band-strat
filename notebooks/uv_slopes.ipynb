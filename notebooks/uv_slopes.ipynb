{
 "cells": [
  {
   "cell_type": "code",
   "execution_count": null,
   "id": "38819107-8d07-4307-826f-d7e9be864d8a",
   "metadata": {},
   "outputs": [],
   "source": [
    "import numpy as np\n",
    "import matplotlib.pyplot as plt\n",
    "from scipy.optimize import curve_fit\n",
    "from u_band_strat import fig_dir"
   ]
  },
  {
   "cell_type": "code",
   "execution_count": 3,
   "id": "90477290-3e53-4e34-9de4-0859d1d7aa96",
   "metadata": {},
   "outputs": [],
   "source": [
    "# Data from https://arxiv.org/abs/1306.2950, Table 3\n",
    "z = np.array([2.5, 3.8, 5.0, 5.9, 7.0, 8.0])\n",
    "beta = np.array([-1.7, -1.85, -1.91, -2.0, -2.05, -2.13])\n",
    "beta_err = np.array([0.07, 0.01, 0.02, 0.05, 0.09, 0.44])\n",
    "dbdM = np.array([-0.2, -0.11, -0.14, -0.20, -0.20, -0.15])\n",
    "dbdM_err = np.array([0.04, 0.01, 0.02, 0.04, 0.07, 0])"
   ]
  },
  {
   "cell_type": "code",
   "execution_count": 4,
   "id": "48362a0f-9641-47a7-8303-7b5ac0193972",
   "metadata": {},
   "outputs": [],
   "source": [
    "# Fit linear model for beta at Muv = -19.5\n",
    "def linear(x, m, b):\n",
    "    return m * x + b\n",
    "\n",
    "\n",
    "result = curve_fit(\n",
    "    linear,\n",
    "    z,\n",
    "    beta,\n",
    "    sigma=beta_err,\n",
    ")"
   ]
  },
  {
   "cell_type": "code",
   "execution_count": null,
   "id": "89df5b11-873a-4787-bef3-2fde40151e12",
   "metadata": {},
   "outputs": [],
   "source": [
    "# Plot UV slope model\n",
    "fig, (ax1, ax2) = plt.subplots(\n",
    "    2, 1, figsize=(3.3, 5.5), constrained_layout=True, dpi=150, sharex=True\n",
    ")\n",
    "\n",
    "ax1.errorbar(z, beta, beta_err, ls=\"\", marker=\".\", color=\"k\", lw=1)\n",
    "\n",
    "z_grid = np.linspace(1.5, 8.5)\n",
    "ax1.plot(z_grid, linear(z_grid, *result[0]), lw=1)\n",
    "\n",
    "ax1.text(\n",
    "    2.5, -2.3, f\"$\\\\beta = {result[0][0]:.3f} \\cdot z {result[0][1]:.2f}$\", color=\"C0\"\n",
    ")\n",
    "\n",
    "ax1.set(\n",
    "    ylabel=\"$\\\\beta$\",\n",
    "    xlim=(z_grid.min(), z_grid.max()),\n",
    "    ylim=(-2.65, -1.55),\n",
    "    title=\"For $M_\\mathrm{UV} = -19.5$\",\n",
    ")\n",
    "\n",
    "ax2.errorbar(z, dbdM, dbdM_err, ls=\"\", marker=\".\", color=\"k\", lw=1)\n",
    "ax2.axhline(dbdM.mean())\n",
    "\n",
    "ax2.text(\n",
    "    2.7,\n",
    "    -0.18,\n",
    "    \"$\\mathrm{d}\\\\beta/\\mathrm{d}M_\\mathrm{UV} = \" + f\"{dbdM.mean():.3f}$\",\n",
    "    color=\"C0\",\n",
    ")\n",
    "\n",
    "ax2.set(\n",
    "    xlabel=\"Redshift\",\n",
    "    ylabel=\"$\\mathrm{d}\\\\beta/\\mathrm{d}M_\\mathrm{UV}$\",\n",
    "    xlim=(z_grid.min(), z_grid.max()),\n",
    "    ylim=(-0.28, -0.09),\n",
    ")\n",
    "\n",
    "fig.savefig(fig_dir / \"uv_slope_fit.pdf\")"
   ]
  },
  {
   "cell_type": "markdown",
   "id": "7162ff15-7e54-43c2-a9b2-74f67988b545",
   "metadata": {},
   "source": [
    "Resulting in the bilinear model: $\\beta(M, z) = -0.167 (M_\\mathrm{UV} + 19.5) - 0.063 \\cdot z - 1.61$"
   ]
  },
  {
   "cell_type": "code",
   "execution_count": null,
   "id": "c496ed2a-36fc-42a8-ba80-6a574fec8011",
   "metadata": {},
   "outputs": [],
   "source": []
  }
 ],
 "metadata": {
  "kernelspec": {
   "display_name": "Python 3",
   "language": "python",
   "name": "python3"
  },
  "language_info": {
   "codemirror_mode": {
    "name": "ipython",
    "version": 3
   },
   "file_extension": ".py",
   "mimetype": "text/x-python",
   "name": "python",
   "nbconvert_exporter": "python",
   "pygments_lexer": "ipython3",
   "version": "3.11.11"
  }
 },
 "nbformat": 4,
 "nbformat_minor": 5
}
