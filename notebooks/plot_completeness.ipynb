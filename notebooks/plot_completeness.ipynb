{
 "cells": [
  {
   "cell_type": "code",
   "execution_count": 1,
   "metadata": {},
   "outputs": [],
   "source": [
    "import numpy as np\n",
    "import matplotlib.pyplot as plt\n",
    "from matplotlib.collections import LineCollection\n",
    "import matplotlib as mpl\n",
    "\n",
    "from lbg_tools import Completeness\n",
    "from u_band_strat import double_col, cmaps, colors, fig_dir"
   ]
  },
  {
   "cell_type": "code",
   "execution_count": null,
   "metadata": {},
   "outputs": [],
   "source": [
    "fig, ax = plt.subplots(figsize=double_col, constrained_layout=True, dpi=150)\n",
    "\n",
    "# Set axis properties\n",
    "ax.set(xlim=(2.15, 7.65), ylim=(0, 0.85), xlabel=\"Redshift\", ylabel=\"Completeness\")\n",
    "\n",
    "# Determine colorbar positions\n",
    "N = 5\n",
    "xmin, xmax = ax.get_xlim()\n",
    "sep = 0.15\n",
    "wid = ((xmax - xmin) - (N - 1) * sep) / N\n",
    "xstart = [i * (wid + sep) + xmin for i in range(N)]\n",
    "cbar_pos = [[xs, 0.9, wid, 0.05] for xs in xstart]\n",
    "\n",
    "for i, (drop_band, det_band) in enumerate(zip(\"ugriz\", \"rizzy\")):\n",
    "    # Get completeness data\n",
    "    comp = Completeness(drop_band, 25)\n",
    "    table = comp.table\n",
    "\n",
    "    # Set range for colors\n",
    "    vrange = table.columns.max() - table.columns.min()\n",
    "    vmin = table.columns.min()\n",
    "    vmax = vmin + 1.25 * vrange\n",
    "\n",
    "    # Create LineCollection of completeness values\n",
    "    segments = []\n",
    "    for col in table.columns:\n",
    "        segments.append(np.column_stack([table.index, table[col]]))\n",
    "    lc = LineCollection(\n",
    "        segments[::-1],\n",
    "        array=table.columns[::-1],\n",
    "        cmap=cmaps[drop_band] + \"_r\",\n",
    "        norm=mpl.colors.Normalize(vmin=vmin, vmax=vmax),\n",
    "        lw=1,\n",
    "    )\n",
    "    ax.add_collection(lc)\n",
    "\n",
    "    cax = ax.inset_axes(cbar_pos[i], transform=ax.transData)\n",
    "    cb = fig.colorbar(\n",
    "        lc,\n",
    "        shrink=0.2,\n",
    "        cax=cax,\n",
    "        orientation=\"horizontal\",\n",
    "        label=f\"${det_band} - {det_band}_5$\",\n",
    "    )\n",
    "    cb.ax.xaxis.set_ticks_position(\"top\")\n",
    "    cb.ax.xaxis.set_label_position(\"top\")\n",
    "    cb.ax.set_xlim(table.columns.min(), table.columns.max())\n",
    "\n",
    "# Plot band labels\n",
    "ax.text(2.65, 0.55, \"$u$\", fontsize=18, color=colors[\"u\"])\n",
    "ax.text(4.3, 0.55, \"$g$\", fontsize=18, color=colors[\"g\"])\n",
    "ax.text(5.2, 0.55, \"$r$\", fontsize=18, color=colors[\"r\"])\n",
    "ax.text(6.15, 0.55, \"$i$\", fontsize=18, color=colors[\"i\"])\n",
    "ax.text(7, 0.55, \"$z$\", fontsize=18, color=colors[\"z\"])\n",
    "\n",
    "fig.savefig(fig_dir / \"completeness.pdf\")"
   ]
  },
  {
   "cell_type": "code",
   "execution_count": null,
   "metadata": {},
   "outputs": [],
   "source": []
  }
 ],
 "metadata": {
  "kernelspec": {
   "display_name": "Python 3",
   "language": "python",
   "name": "python3"
  },
  "language_info": {
   "codemirror_mode": {
    "name": "ipython",
    "version": 3
   },
   "file_extension": ".py",
   "mimetype": "text/x-python",
   "name": "python",
   "nbconvert_exporter": "python",
   "pygments_lexer": "ipython3",
   "version": "3.11.11"
  }
 },
 "nbformat": 4,
 "nbformat_minor": 2
}
