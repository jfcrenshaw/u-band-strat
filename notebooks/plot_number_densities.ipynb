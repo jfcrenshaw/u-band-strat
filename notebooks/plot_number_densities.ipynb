{
 "cells": [
  {
   "cell_type": "code",
   "execution_count": 5,
   "metadata": {},
   "outputs": [],
   "source": [
    "import numpy as np\n",
    "import matplotlib.pyplot as plt\n",
    "\n",
    "from lbg_tools import TomographicBin\n",
    "from u_band_strat import single_col, colors, fig_dir"
   ]
  },
  {
   "cell_type": "code",
   "execution_count": 3,
   "metadata": {},
   "outputs": [],
   "source": [
    "# Evaluate number densities over a dense grid\n",
    "\n",
    "m5 = np.linspace(23, 28, 100)\n",
    "n_u = np.array([TomographicBin(\"u\", m5i).number_density for m5i in m5])\n",
    "n_g = np.array([TomographicBin(\"g\", m5i).number_density for m5i in m5])\n",
    "n_r = np.array([TomographicBin(\"r\", m5i).number_density for m5i in m5])\n",
    "n_i = np.array([TomographicBin(\"i\", m5i).number_density for m5i in m5])\n",
    "n_z = np.array([TomographicBin(\"z\", m5i).number_density for m5i in m5])"
   ]
  },
  {
   "cell_type": "code",
   "execution_count": null,
   "metadata": {},
   "outputs": [],
   "source": [
    "fig, ax = plt.subplots(figsize=single_col, dpi=150)\n",
    "\n",
    "ax.plot(m5, n_u, c=colors[\"u\"], label=\"u\")\n",
    "ax.plot(m5, n_g, c=colors[\"g\"], label=\"g\")\n",
    "ax.plot(m5, n_r, c=colors[\"r\"], label=\"r\")\n",
    "ax.plot(m5, n_i, c=colors[\"i\"], label=\"i\")\n",
    "ax.plot(m5, n_z, c=colors[\"z\"], label=\"z\")\n",
    "\n",
    "ax.legend(handlelength=1, frameon=False, fontsize=8, loc=\"lower right\")\n",
    "\n",
    "ax.set(\n",
    "    yscale=\"log\",\n",
    "    xlim=(m5.min(), m5.max()),\n",
    "    ylim=(1e-3, 1e5),\n",
    "    xlabel=\"5$\\sigma$ depth in detection band\",\n",
    "    ylabel=\"Number density\",\n",
    ")\n",
    "\n",
    "ax.scatter(23.48, TomographicBin(\"u\", 23.48).number_density, c=\"C4\", marker=\"|\", s=100)\n",
    "ax.scatter(24.64, TomographicBin(\"g\", 24.64).number_density, c=\"C0\", marker=\"|\", s=100)\n",
    "ax.scatter(24.18, TomographicBin(\"r\", 24.18).number_density, c=\"C2\", marker=\"|\", s=100)\n",
    "ax.scatter(24.18, TomographicBin(\"i\", 24.18).number_density, c=\"C1\", marker=\"|\", s=100)\n",
    "ax.scatter(23.33, TomographicBin(\"z\", 23.33).number_density, c=\"C3\", marker=\"|\", s=100)\n",
    "\n",
    "ax.scatter(24.72, TomographicBin(\"u\", 24.72).number_density, c=\"C4\", marker=\".\", s=50)\n",
    "ax.scatter(26.00, TomographicBin(\"g\", 26.00).number_density, c=\"C0\", marker=\".\", s=50)\n",
    "ax.scatter(25.57, TomographicBin(\"r\", 25.57).number_density, c=\"C2\", marker=\".\", s=50)\n",
    "ax.scatter(25.57, TomographicBin(\"i\", 25.57).number_density, c=\"C1\", marker=\".\", s=50)\n",
    "ax.scatter(24.63, TomographicBin(\"z\", 24.63).number_density, c=\"C3\", marker=\".\", s=50)\n",
    "\n",
    "ax.scatter(26.69, TomographicBin(\"u\", 26.69).number_density, c=\"C4\", marker=\"*\", s=25)\n",
    "ax.scatter(27.73, TomographicBin(\"g\", 27.73).number_density, c=\"C0\", marker=\"*\", s=25)\n",
    "ax.scatter(27.69, TomographicBin(\"r\", 27.69).number_density, c=\"C2\", marker=\"*\", s=25)\n",
    "ax.scatter(27.69, TomographicBin(\"i\", 27.69).number_density, c=\"C1\", marker=\"*\", s=25)\n",
    "ax.scatter(26.23, TomographicBin(\"z\", 26.23).number_density, c=\"C3\", marker=\"*\", s=25)\n",
    "\n",
    "\n",
    "fig.savefig(fig_dir / \"number_density.pdf\", bbox_inches=\"tight\")"
   ]
  },
  {
   "cell_type": "code",
   "execution_count": null,
   "metadata": {},
   "outputs": [],
   "source": []
  }
 ],
 "metadata": {
  "kernelspec": {
   "display_name": "Python 3",
   "language": "python",
   "name": "python3"
  },
  "language_info": {
   "codemirror_mode": {
    "name": "ipython",
    "version": 3
   },
   "file_extension": ".py",
   "mimetype": "text/x-python",
   "name": "python",
   "nbconvert_exporter": "python",
   "pygments_lexer": "ipython3",
   "version": "3.11.11"
  }
 },
 "nbformat": 4,
 "nbformat_minor": 2
}
