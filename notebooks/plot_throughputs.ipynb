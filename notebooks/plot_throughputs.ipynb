{
 "cells": [
  {
   "cell_type": "code",
   "execution_count": 1,
   "metadata": {},
   "outputs": [],
   "source": [
    "import numpy as np\n",
    "import matplotlib.pyplot as plt\n",
    "\n",
    "from u_band_strat import data_dir, fig_dir, colors, double_col"
   ]
  },
  {
   "cell_type": "code",
   "execution_count": null,
   "metadata": {},
   "outputs": [],
   "source": [
    "fig, ax = plt.subplots(figsize=double_col, dpi=140)\n",
    "\n",
    "for band in \"ugrizy\":\n",
    "    w, t = np.genfromtxt(data_dir / f\"throughputs/{band}_1p9.dat\", unpack=True)\n",
    "    ax.plot(w, t, c=colors[band])\n",
    "\n",
    "for band in \"ugrizy\":\n",
    "    w, t = np.genfromtxt(data_dir / f\"throughputs/{band}_1p8.dat\", unpack=True)\n",
    "    ax.plot(w, t, ls=\"--\", c=colors[band])\n",
    "\n",
    "ax.plot([], [], ls=\"-\", c=\"k\", label=\"Ag-Ag-Ag\")\n",
    "ax.plot([], [], ls=\"--\", c=\"k\", label=\"Al-Ag-Al\")\n",
    "ax.legend(frameon=False)\n",
    "\n",
    "ax.set(ylim=(0, 0.7), xlim=(300, 1100), xlabel=\"Wavelength (nm)\", ylabel=\"Throughput\")\n",
    "fig.savefig(fig_dir / \"throughputs.pdf\", bbox_inches=\"tight\")"
   ]
  },
  {
   "cell_type": "code",
   "execution_count": null,
   "metadata": {},
   "outputs": [],
   "source": []
  }
 ],
 "metadata": {
  "kernelspec": {
   "display_name": "Python 3",
   "language": "python",
   "name": "python3"
  },
  "language_info": {
   "codemirror_mode": {
    "name": "ipython",
    "version": 3
   },
   "file_extension": ".py",
   "mimetype": "text/x-python",
   "name": "python",
   "nbconvert_exporter": "python",
   "pygments_lexer": "ipython3",
   "version": "3.11.11"
  }
 },
 "nbformat": 4,
 "nbformat_minor": 2
}
